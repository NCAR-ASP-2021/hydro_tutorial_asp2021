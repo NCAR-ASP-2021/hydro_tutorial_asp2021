{
 "cells": [
  {
   "cell_type": "markdown",
   "metadata": {},
   "source": [
    "# Applying an impact model for hydroelectric dam management driven bya time series of runoff data\n",
    "# Author: 2020, John Methven\n",
    "### Adaptation to Jupyter notebook, 2021: Judith Berner"
   ]
  },
  {
   "cell_type": "code",
   "execution_count": 2,
   "metadata": {},
   "outputs": [],
   "source": [
    "import matplotlib.pyplot as plt\n",
    "#import cartopy.crs as ccrs\n",
    "import numpy as np\n",
    "from scipy import optimize\n",
    "from scipy import signal\n",
    "from netCDF4 import Dataset\n",
    "import datetime\n",
    "from datetime import date\n",
    "from datetime import timedelta\n",
    "import readera_runoff_series as re"
   ]
  },
  {
   "cell_type": "markdown",
   "metadata": {},
   "source": [
    "### Can be run with CMIP6 2019.10 kernel"
   ]
  },
  {
   "cell_type": "markdown",
   "metadata": {},
   "source": [
    " ###   Implementation of the dam operation model of Hirsch et al (2014) \n",
    " ###   This is called as a function from the main code\n",
    "\n",
    " ####   Input: \n",
    " ####   :runoffarr  - input time series for runoff data\n",
    " ####   :dt         - runoff accumulation interval per record\n",
    " ####   :catcharea  - catchment area for the dam\n",
    " ####   :kappa      - parameter relating reservoir depth to volume\n",
    " ####   :hmax       - maximum water head (constraint on optimization)\n",
    " ####   :hmin       - minimum water head\n",
    " ####   :wmax       - maximum flow rate through turbines\n",
    " ####   :wmin       - minimum flow rate to maintain some power generation\n",
    " ####   :rmax       - maximum relief flow rate, bypassing turbines in flood\n",
    " ####   :sigma      - operational efficiency of power generation by dam\n",
    " ####   Output: \n",
    " ####   :inflow     - input time series for inflow to reservoir  \n",
    " ####   :x          - output time series for water head at dam\n",
    " ####   :w          - output solution for optimum flow rate through turbines\n",
    " ####   :r          - output solution for relief flow rate\n",
    " ####   :gout       - value of time integrated generation for optimum solution (MW-days)\n"
   ]
  },
  {
   "cell_type": "code",
   "execution_count": 3,
   "metadata": {},
   "outputs": [],
   "source": [
    "def damop_model(runoffarr, dt, catcharea, kappa, hmax, hmin, wmax, wmin, rmax, sigma):\n",
    "    print()\n",
    "    print('damop_model has been called with the constraints:')\n",
    "    print('wmax = ',wmax,'   wmin = ',wmin,'   hmax = ',hmax,'   hmin = ',hmin)\n",
    "    #\n",
    "    # Set parameter used to control computational mode using filter similar to Robert-Asselin\n",
    "    #\n",
    "    alpha = 0.1\n",
    "    #\n",
    "    # Convert runoff data from units of m to an equivalent inflow in m^3 s^-1\n",
    "    # Assume that the same runoff rate applies to the entire catchment area for dam\n",
    "    #\n",
    "    runoffave = np.mean(runoffarr)\n",
    "    inflow = catcharea*runoffarr/dt\n",
    "    n = len(inflow)\n",
    "    inmax = max(inflow)\n",
    "    #\n",
    "    # Apply running mean to the inflow data if required for smoother solution \n",
    "    # to the optimisation. Averaging window length = nwin.\n",
    "    #\n",
    "    nwin = 3\n",
    "    inflow = running_mean(inflow, nwin)\n",
    "    #\n",
    "    # Scale mu so that the sum of generation over time points is approx one.\n",
    "    # This gives a better numerical solution in the optimisation for max generation\n",
    "    # by reducing numerical truncation error in the calculation.\n",
    "    #\n",
    "    mu = 1.0/(n*sigma*wmax*hmax)\n",
    "    #\n",
    "    # The dam management optimization model is set up in the mathematical form of a \n",
    "    # quadratic programming problem.\n",
    "    # The only input time series is the inflow to the reservoir.\n",
    "    # The model solves for the water head at the dam maximizing power generation.\n",
    "    # This then gives the flow rate through the turbines.\n",
    "    # However, contraints are applied on maximum and minimum water level \n",
    "    # and maximum/minimum flow rate through the turbines.\n",
    "    #\n",
    "    # The equation for generation can be written in the form\n",
    "    # \n",
    "    # G = 0.5*H^T P H + q^T H\n",
    "    #\n",
    "    # where H is the head time series we are solving for (a 1-D array) and \n",
    "    # P is a matrix and q is also a 1-D time series (scaled inflow).\n",
    "    # The notation ^T means the transpose of the matrix. \n",
    "    # Quadratic programming aims to minimize -G which is equivalent to max(G).\n",
    "    #\n",
    "    q = -mu*sigma*inflow\n",
    "    pmat = np.zeros((n, n))\n",
    "    cmat = np.zeros((n, n))\n",
    "    umat = np.zeros((n, n))\n",
    "    for i in range(n-1):\n",
    "        pmat[i, i] = -1\n",
    "        pmat[i, i+1] = 1\n",
    "        umat[i, i] = 1\n",
    "    umat[n-1, n-1] = 1\n",
    "    for j in range(n-2):\n",
    "        i = j+1\n",
    "        cmat[i, i-1] = -1 + 0.5*alpha\n",
    "        cmat[i, i]   = -alpha\n",
    "        cmat[i, i+1] = 1 + 0.5*alpha\n",
    "\n",
    "    pscal = mu*sigma*(kappa/dt)*cmat\n",
    "    gscal = -0.5*(kappa/dt)*cmat\n",
    "    #\n",
    "    # Set constraints on the rate of reservoir volume decrease (W+R-I)\n",
    "    # based on the parameters Wmax, Rmax and Wmin\n",
    "    #\n",
    "    wmaxcons = np.zeros(n)\n",
    "    wmincons = np.zeros(n)\n",
    "    for i in range(n):\n",
    "        wmaxcons[i] = wmax+rmax-inflow[i]\n",
    "        wmincons[i] = min([wmin, wmax-inflow[i]])\n",
    "    #\n",
    "    # Set constraints on the water head at the dam: hmin <= h <= hmax\n",
    "    #\n",
    "    hscal = umat\n",
    "    hmaxcons = np.ones(n)*hmax\n",
    "    hmincons = np.ones(n)*hmin\n",
    "\n",
    "    vmat = np.concatenate((gscal, -gscal, hscal, -hscal), axis=0)\n",
    "    vcons = np.concatenate((wmaxcons, -wmincons, hmaxcons, -hmincons))\n",
    "    print('Now apply quadratic minimization technique')\n",
    "\n",
    "    def gen(x, sign=1.):\n",
    "        return sign * (0.5*np.dot(x.T, np.dot(pscal, x)) + np.dot(q.T, x))\n",
    "\n",
    "    def jac(x, sign=1.):\n",
    "        return sign * (np.dot(x.T, pscal) + q.T)\n",
    "\n",
    "    cons = {'type':'ineq',\n",
    "            'fun':lambda x: vcons - np.dot(vmat, x),\n",
    "            'jac':lambda x: -vmat}\n",
    "\n",
    "    opt = {'disp':True, 'maxiter':100, 'ftol':1e-08}\n",
    "\n",
    "    #\n",
    "    # Obtain solution by minimization nouter times and average the results\n",
    "    # to remove noise.\n",
    "    # Note that the minimize method does not always find a solution consistent \n",
    "    # with the contraints imposed (depending on the first guess data) and these\n",
    "    # failed attempts are not included in the average solution.\n",
    "    #\n",
    "    nouter = 2\n",
    "    istsuccess = 1\n",
    "    ic = -1\n",
    "    xinit = hmin*(1.0 + 0.01*np.random.randn(n))\n",
    "    nwin = 5\n",
    "    xinit = running_mean(xinit, nwin)\n",
    "    for io in range(nouter):\n",
    "    #while istsuccess == 1:\n",
    "        #\n",
    "        # First guess values for x (water head).\n",
    "        # Random variation on top of constant level.\n",
    "        # Smooth to reduce 2-grid noise in input data.\n",
    "        #\n",
    "        ic = ic+1\n",
    "        res_cons = optimize.minimize(gen, xinit, jac=jac, constraints=cons,\n",
    "                                 method='SLSQP', options=opt)\n",
    "        xup = res_cons['x']\n",
    "        fup = res_cons['fun']\n",
    "        stexit = res_cons['status']\n",
    "\n",
    "        if stexit != 4:\n",
    "            if istsuccess == 1:\n",
    "                x = xup\n",
    "                x = running_mean(x, nwin)\n",
    "                xinit = x\n",
    "                f = fup\n",
    "                print('Constrained optimization')\n",
    "                print(res_cons)\n",
    "                print('iter ',ic,' f = ',f)\n",
    "                istsuccess = 0\n",
    "            else:\n",
    "                if (fup/f) < 2:\n",
    "                    afac = float(ic+1)/nouter\n",
    "                    x = afac*x + (1-afac)*xup\n",
    "                    x = running_mean(x, nwin)\n",
    "                    xinit = x\n",
    "                    f = afac*f + (1-afac)*fup\n",
    "                    print('iter ',ic,' f = ',f)\n",
    "        if ic == nouter:\n",
    "            print(nouter,' outer iterations finished without reaching result')\n",
    "            istsuccess = 1\n",
    "    # end outer loop\n",
    "\n",
    "    #\n",
    "    # Optimisation returns the head in variable x\n",
    "    # Total flow rate ft = W+R is calculated from head and known inflow rate\n",
    "    # Total flow is diverted into relief flow when it exceeds Wmax\n",
    "    #\n",
    "    ft = np.dot(gscal, x) + inflow\n",
    "    w = np.copy(ft)\n",
    "    r = np.zeros(n)\n",
    "    excessflow = np.where(ft > wmax)\n",
    "    w[excessflow] = wmax\n",
    "    r[excessflow] = ft[excessflow]-wmax\n",
    "    gout = -f\n",
    "\n",
    "    return inflow, x, w, r, gout"
   ]
  },
  {
   "cell_type": "code",
   "execution_count": 4,
   "metadata": {},
   "outputs": [],
   "source": [
    "def running_mean(xarr, nwin):\n",
    "    '''\n",
    "    Apply running mean filter through array\n",
    "    Inputs:\n",
    "        xarr    - array to filter\n",
    "        nwin    - number of points in the filter window (odd number expected)\n",
    "    Output:\n",
    "        xfilt   - same length as xarr after application of filter\n",
    "    '''\n",
    "    n = len(xarr)\n",
    "    xfilt = np.copy(xarr)\n",
    "    ist = int(nwin/2)\n",
    "    xconv = np.convolve(xarr, np.ones(nwin),'valid')/nwin\n",
    "    xfilt[ist:n-ist] = xconv[:]\n",
    "\n",
    "    return xfilt"
   ]
  },
  {
   "cell_type": "code",
   "execution_count": 5,
   "metadata": {},
   "outputs": [],
   "source": [
    "def plot_series(timarr, inflow, h, w, r, powergen, ilabel, hlabel, wlabel, rlabel, plabel, mytitle):\n",
    "    '''\n",
    "    Plot the subset time series\n",
    "    Inputs:\n",
    "        timarr   - time array in datetime format\n",
    "        y        - data time series\n",
    "        ylabel   - string name for data\n",
    "        mytitle  - plot title\n",
    "    '''\n",
    "    fig = plt.figure()\n",
    "    plt.plot(timarr,inflow,label=ilabel)\n",
    "    plt.plot(timarr,h,label=hlabel)\n",
    "    plt.plot(timarr,w,label=wlabel)\n",
    "    plt.plot(timarr,r,label=rlabel)\n",
    "    plt.plot(timarr,powergen,label=plabel)\n",
    "    plt.xlabel(\"Days\")\n",
    "    plt.ylabel(ilabel)\n",
    "    plt.title(mytitle)\n",
    "    plt.legend()\n",
    "    plt.show()"
   ]
  },
  {
   "cell_type": "markdown",
   "metadata": {},
   "source": [
    "## Main program script for controlling the hydroelectric dam management model and its output"
   ]
  },
  {
   "cell_type": "markdown",
   "metadata": {},
   "source": [
    "#### First set parameters "
   ]
  },
  {
   "cell_type": "code",
   "execution_count": 6,
   "metadata": {},
   "outputs": [],
   "source": [
    "    #\n",
    "    # Set the parameters for the geometry of the chosen dam\n",
    "    #\n",
    "    hdam = 161.            # dam height (m)\n",
    "    catcharea = 254.5*1.e6 # dam catchment area converted to m^2\n",
    "    area = 13*1.e6         # reservoir area converted to m^2\n",
    "    #\n",
    "    # Assuming max reservoir depth equals dam height.\n",
    "    # Also assuming that average reservoir depth is a fraction of the max depth.\n",
    "    #\n",
    "    max_volume = area*hdam*0.5\n",
    "    kappa = max_volume/hdam\n",
    "    maxflow = 100.           # stated maximum flow through hydro turbines (m^3 s^-1)\n",
    "    maxpower = 153.          # stated maximum power generation by plant (MW)\n",
    "    taudam = 180.            # timescale for dam to run dry at maximum flow rate (days)\n",
    "    taudam = taudam*3600*24  # convert from days to seconds\n",
    "    #\n",
    "    # Set the constraints on the optimization for maximum power generation\n",
    "    #\n",
    "    hmax = 0.5*hdam\n",
    "    hmin = 0.2*hmax\n",
    "    wmax = (kappa/taudam)*hdam\n",
    "    # NOTE: model uses either maxflow OR taudam to constrain flow rates (but not both)\n",
    "    # wmax = maxflow\n",
    "    beta = 0.1               # where min(flow rate) = beta*max(flow rate) \n",
    "    wmin = beta*wmax\n",
    "    rmax = 0.2*wmax          # maximum relief flow diverting around turbines\n",
    "    sigma = 0.9              # operational efficiency factor for the power station\n",
    "    mu = maxpower/(sigma*wmax*hmax) # conversion factor to GW for power generation estimate\n",
    "    #\n",
    "    # Pick the location of the dam to extract the time series\n",
    "    #\n",
    "    lonpick = 136.502\n",
    "    latpick = 35.667\n",
    "    dlon = 0.1 # runoff data grid box side in degrees longitude\n",
    "    dlat = 0.1 # runoff data grid box side in degrees latitude\n",
    "    radea = 6371000. # average radius of the Earth (m)\n",
    "    boxarea = dlon*(np.pi/180)*dlat*(np.pi/180)*np.cos(latpick*np.pi/180)*radea*radea\n",
    "    #\n",
    "    # Select the start and end date required for the time series\n",
    "    #\n",
    "    dstart = datetime.date(2018, 6, 1)\n",
    "    dend = datetime.date(2018, 7, 31)\n"
   ]
  },
  {
   "cell_type": "code",
   "execution_count": 7,
   "metadata": {},
   "outputs": [],
   "source": [
    "    #\n",
    "    # Set the path and filename stem for ERA5 data files.   \n",
    "    #\n",
    "    fpath = '../data/ERA5/japan/'\n",
    "    fstem = 'japan_ERA5land.'\n"
   ]
  },
  {
   "cell_type": "markdown",
   "metadata": {},
   "source": [
    "#\n",
    "### Call the function to extract the run-off time series\n",
    "#"
   ]
  },
  {
   "cell_type": "code",
   "execution_count": 8,
   "metadata": {},
   "outputs": [
    {
     "name": "stdout",
     "output_type": "stream",
     "text": [
      "Read data for accumulation to  2018-06-02 00:00:00\n",
      "\n",
      "Longitude of nearest grid box =  136.6\n",
      "Latitude of nearest grid box =  35.6\n"
     ]
    },
    {
     "data": {
      "image/png": "[encoded data removed]",
      "text/plain": [
       "<Figure size 432x288 with 2 Axes>"
      ]
     },
     "metadata": {
      "needs_background": "light"
     },
     "output_type": "display_data"
    },
    {
     "name": "stdout",
     "output_type": "stream",
     "text": [
      "Read data for accumulation to  2018-06-02 00:00:00\n",
      "Read data for accumulation to  2018-06-03 00:00:00\n",
      "Read data for accumulation to  2018-06-04 00:00:00\n",
      "Read data for accumulation to  2018-06-05 00:00:00\n",
      "Read data for accumulation to  2018-06-06 00:00:00\n",
      "Read data for accumulation to  2018-06-07 00:00:00\n",
      "Read data for accumulation to  2018-06-08 00:00:00\n",
      "Read data for accumulation to  2018-06-09 00:00:00\n",
      "Read data for accumulation to  2018-06-10 00:00:00\n",
      "Read data for accumulation to  2018-06-11 00:00:00\n",
      "Read data for accumulation to  2018-06-12 00:00:00\n",
      "Read data for accumulation to  2018-06-13 00:00:00\n",
      "Read data for accumulation to  2018-06-14 00:00:00\n",
      "Read data for accumulation to  2018-06-15 00:00:00\n",
      "Read data for accumulation to  2018-06-16 00:00:00\n",
      "Read data for accumulation to  2018-06-17 00:00:00\n",
      "Read data for accumulation to  2018-06-18 00:00:00\n",
      "Read data for accumulation to  2018-06-19 00:00:00\n",
      "Read data for accumulation to  2018-06-20 00:00:00\n",
      "Read data for accumulation to  2018-06-21 00:00:00\n",
      "Read data for accumulation to  2018-06-22 00:00:00\n",
      "Read data for accumulation to  2018-06-23 00:00:00\n",
      "Read data for accumulation to  2018-06-24 00:00:00\n",
      "Read data for accumulation to  2018-06-25 00:00:00\n",
      "Read data for accumulation to  2018-06-26 00:00:00\n",
      "Read data for accumulation to  2018-06-27 00:00:00\n",
      "Read data for accumulation to  2018-06-28 00:00:00\n",
      "Read data for accumulation to  2018-06-29 00:00:00\n",
      "Read data for accumulation to  2018-06-30 00:00:00\n",
      "Read data for accumulation to  2018-07-01 00:00:00\n",
      "Read data for accumulation to  2018-07-02 00:00:00\n",
      "Read data for accumulation to  2018-07-03 00:00:00\n",
      "Read data for accumulation to  2018-07-04 00:00:00\n",
      "Read data for accumulation to  2018-07-05 00:00:00\n",
      "Read data for accumulation to  2018-07-06 00:00:00\n",
      "Read data for accumulation to  2018-07-07 00:00:00\n",
      "Read data for accumulation to  2018-07-08 00:00:00\n",
      "Read data for accumulation to  2018-07-09 00:00:00\n",
      "Read data for accumulation to  2018-07-10 00:00:00\n",
      "Read data for accumulation to  2018-07-11 00:00:00\n",
      "Read data for accumulation to  2018-07-12 00:00:00\n",
      "Read data for accumulation to  2018-07-13 00:00:00\n",
      "Read data for accumulation to  2018-07-14 00:00:00\n",
      "Read data for accumulation to  2018-07-15 00:00:00\n",
      "Read data for accumulation to  2018-07-16 00:00:00\n",
      "Read data for accumulation to  2018-07-17 00:00:00\n",
      "Read data for accumulation to  2018-07-18 00:00:00\n",
      "Read data for accumulation to  2018-07-19 00:00:00\n",
      "Read data for accumulation to  2018-07-20 00:00:00\n",
      "Read data for accumulation to  2018-07-21 00:00:00\n",
      "Read data for accumulation to  2018-07-22 00:00:00\n",
      "Read data for accumulation to  2018-07-23 00:00:00\n",
      "Read data for accumulation to  2018-07-24 00:00:00\n",
      "Read data for accumulation to  2018-07-25 00:00:00\n",
      "Read data for accumulation to  2018-07-26 00:00:00\n",
      "Read data for accumulation to  2018-07-27 00:00:00\n",
      "Read data for accumulation to  2018-07-28 00:00:00\n",
      "Read data for accumulation to  2018-07-29 00:00:00\n",
      "Read data for accumulation to  2018-07-30 00:00:00\n",
      "Read data for accumulation to  2018-07-31 00:00:00\n",
      "Read data for accumulation to  2018-08-01 00:00:00\n"
     ]
    },
    {
     "data": {
      "image/png": "[encoded data removed]",
      "text/plain": [
       "<Figure size 432x288 with 1 Axes>"
      ]
     },
     "metadata": {
      "needs_background": "light"
     },
     "output_type": "display_data"
    }
   ],
   "source": [
    "    dayarr, timarr, runoffarr = re.extract_series(fpath, fstem, lonpick, latpick, dstart, dend)\n",
    "    dt = dayarr[1]-dayarr[0] # interval between data records (days)\n",
    "    dt = dt*3600*24          # convert from days to seconds\n",
    "    n = len(dayarr)"
   ]
  },
  {
   "cell_type": "code",
   "execution_count": 9,
   "metadata": {},
   "outputs": [
    {
     "data": {
      "text/plain": [
       "array([ 0,  1,  2,  3,  4,  5,  6,  7,  8,  9, 10, 11, 12, 13, 14, 15, 16,\n",
       "       17, 18, 19, 20, 21, 22, 23, 24, 25, 26, 27, 28, 29, 30, 31, 32, 33,\n",
       "       34, 35, 36, 37, 38, 39, 40, 41, 42, 43, 44, 45, 46, 47, 48, 49, 50,\n",
       "       51, 52, 53, 54, 55, 56, 57, 58, 59, 60])"
      ]
     },
     "execution_count": 9,
     "metadata": {},
     "output_type": "execute_result"
    }
   ],
   "source": [
    "dayarr"
   ]
  },
  {
   "cell_type": "code",
   "execution_count": 10,
   "metadata": {},
   "outputs": [
    {
     "data": {
      "text/plain": [
       "array([0.00321496, 0.00311675, 0.00301984, 0.00292577, 0.00312949,\n",
       "       0.00309726, 0.00269532, 0.01878645, 0.00258483, 0.00273015,\n",
       "       0.00253863, 0.00248891, 0.00243569, 0.00241531, 0.00238644,\n",
       "       0.00233987, 0.00228008, 0.00223066, 0.02035871, 0.00303682,\n",
       "       0.00214516, 0.00211597, 0.00222033, 0.0020718 , 0.0020356 ,\n",
       "       0.00229047, 0.01118659, 0.00381644, 0.02572839, 0.00444457,\n",
       "       0.00480744, 0.00514876, 0.00867518, 0.06666296, 0.11832284,\n",
       "       0.08822031, 0.07290565, 0.02019612, 0.01492115, 0.01187596,\n",
       "       0.0098861 , 0.00852704, 0.00746773, 0.00662083, 0.00594417,\n",
       "       0.00538902, 0.00492594, 0.00452534, 0.00418075, 0.00388939,\n",
       "       0.00362866, 0.00339249, 0.00317601, 0.00298702, 0.00282084,\n",
       "       0.00270395, 0.00255285, 0.00270027, 0.00234864, 0.00221841,\n",
       "       0.00213782])"
      ]
     },
     "execution_count": 10,
     "metadata": {},
     "output_type": "execute_result"
    }
   ],
   "source": [
    "runoffarr"
   ]
  },
  {
   "cell_type": "markdown",
   "metadata": {},
   "source": [
    "### Call the dam management model to return results for optimum power generation subject to constraints on reservoir level and flow rate through turbines."
   ]
  },
  {
   "cell_type": "code",
   "execution_count": 11,
   "metadata": {},
   "outputs": [
    {
     "name": "stdout",
     "output_type": "stream",
     "text": [
      "\n",
      "damop_model has been called with the constraints:\n",
      "wmax =  67.29038065843622    wmin =  6.729038065843622    hmax =  80.5    hmin =  16.1\n",
      "Now apply quadratic minimization technique\n",
      "Iteration limit reached    (Exit mode 9)\n",
      "            Current function value: -0.27689025292550096\n",
      "            Iterations: 100\n",
      "            Function evaluations: 100\n",
      "            Gradient evaluations: 100\n",
      "Constrained optimization\n",
      "     fun: -0.27689025292550096\n",
      "     jac: array([-8.77304168e-03, -8.69894555e-03,  5.65779500e-04,  2.65069209e-04,\n",
      "        5.36384080e-04,  2.92164412e-04,  3.84402651e-04,  1.70084536e-04,\n",
      "        3.68123658e-04,  3.24289149e-04,  5.04992170e-04,  3.44637261e-04,\n",
      "        4.93275835e-04,  3.60876653e-04,  4.82350749e-04,  3.74401604e-04,\n",
      "        4.74537719e-04,  2.34853359e-04,  2.89864006e-04,  2.34274402e-04,\n",
      "        4.37606411e-04,  4.17917113e-04,  2.04131821e-04, -3.41706316e-05,\n",
      "       -2.16654243e-05, -7.78267171e-05, -2.47067935e-05, -1.14424914e-04,\n",
      "       -9.33595821e-05, -1.10054711e-04, -3.35105323e-05, -2.56951056e-05,\n",
      "       -2.88708563e-04, -1.27448879e-03, -1.75304365e-03, -1.49310950e-03,\n",
      "       -6.08352553e-04, -2.73322392e-04,  1.41284499e-06,  2.17802334e-04,\n",
      "        1.64393006e-04,  3.04708188e-04,  2.38679581e-04,  3.47705109e-04,\n",
      "        2.93558902e-04,  3.74640372e-04,  3.27755158e-04,  3.56574765e-04,\n",
      "        5.18690363e-05,  3.27908584e-05, -6.02785433e-06, -2.39992540e-05,\n",
      "       -2.07880038e-05, -1.85883559e-05, -2.71593715e-05, -2.24342618e-05,\n",
      "        4.13595416e-05,  1.11902420e-04,  8.64818175e-05,  3.48808156e-03,\n",
      "        3.82656266e-03])\n",
      " message: 'Iteration limit reached'\n",
      "    nfev: 100\n",
      "     nit: 100\n",
      "    njev: 100\n",
      "  status: 9\n",
      " success: False\n",
      "       x: array([37.35318341, 40.42821853, 35.83407506, 38.17152321, 34.2378482 ,\n",
      "       35.97997111, 32.58111933, 34.2228509 , 31.29131595, 32.49836408,\n",
      "       29.55706604, 30.3666491 , 27.77594148, 28.25793795, 25.95732147,\n",
      "       26.1719253 , 24.10749184, 24.10117167, 22.68068985, 22.55849989,\n",
      "       21.25953976, 20.57177034, 19.3107216 , 19.67270647, 19.34366859,\n",
      "       19.71961338, 19.45079871, 19.6245561 , 19.40195729, 19.61266737,\n",
      "       19.4080298 , 19.5912981 , 19.25157403, 19.85611076, 22.41977705,\n",
      "       23.93780338, 25.32401079, 24.11346761, 25.23105808, 23.34369248,\n",
      "       23.91879381, 22.10699395, 22.34518478, 20.66772781, 20.63898809,\n",
      "       19.06687581, 18.84901417, 17.37060739, 17.16879137, 16.97900394,\n",
      "       16.87644536, 16.86777722, 16.8482239 , 16.83466987, 16.81216883,\n",
      "       16.84566843, 16.80139157, 16.54979433, 16.20607857, 16.08630062,\n",
      "       16.05932021])\n",
      "iter  0  f =  -0.27689025292550096\n",
      "Iteration limit reached    (Exit mode 9)\n",
      "            Current function value: -0.5577880325413773\n",
      "            Iterations: 100\n",
      "            Function evaluations: 100\n",
      "            Gradient evaluations: 100\n"
     ]
    }
   ],
   "source": [
    "    inflow, h, w, r, gout = damop_model(runoffarr, dt, catcharea, kappa, hmax, hmin, wmax, wmin, rmax, sigma)\n",
    "    powergen = mu*sigma*w*h\n",
    "\n",
    "    ilabel = 'inflow  (m^3 s^-1)'\n",
    "    hlabel = 'head   (m)'\n",
    "    wlabel = 'flow rate  (m^3 s^-1)'\n",
    "    rlabel = 'relief flow  (m^3 s^-1)'\n",
    "    plabel = 'generation rate  (MW)'\n",
    "    mytitle = 'dam model optimisation output'"
   ]
  },
  {
   "cell_type": "code",
   "execution_count": 12,
   "metadata": {},
   "outputs": [
    {
     "data": {
      "image/png": "[encoded data removed]",
      "text/plain": [
       "<Figure size 432x288 with 1 Axes>"
      ]
     },
     "metadata": {
      "needs_background": "light"
     },
     "output_type": "display_data"
    }
   ],
   "source": [
    "plot_series(dayarr, inflow, h, w, r, powergen, ilabel, hlabel, wlabel, rlabel, plabel, mytitle)"
   ]
  },
  {
   "cell_type": "code",
   "execution_count": null,
   "metadata": {},
   "outputs": [],
   "source": []
  }
 ],
 "metadata": {
  "kernelspec": {
   "display_name": "CMIP6 2019.10",
   "language": "python",
   "name": "cmip6-201910"
  },
  "language_info": {
   "codemirror_mode": {
    "name": "ipython",
    "version": 3
   },
   "file_extension": ".py",
   "mimetype": "text/x-python",
   "name": "python",
   "nbconvert_exporter": "python",
   "pygments_lexer": "ipython3",
   "version": "3.7.8"
  }
 },
 "nbformat": 4,
 "nbformat_minor": 4
}
