{
 "cells": [
  {
   "cell_type": "markdown",
   "metadata": {},
   "source": [
    "# Applying an impact model for optimization of hydroelectric dam management driven by a time series of runoff data\n",
    "# Author: 2020, John Methven\n",
    "### Adaptation to Jupyter notebook, 2021: Judith Berner"
   ]
  },
  {
   "cell_type": "code",
   "execution_count": 1,
   "metadata": {},
   "outputs": [],
   "source": [
    "import matplotlib.pyplot as plt\n",
    "#import cartopy.crs as ccrs\n",
    "import numpy as np\n",
    "from scipy import optimize\n",
    "from scipy import signal\n",
    "from netCDF4 import Dataset\n",
    "import datetime\n",
    "from datetime import date\n",
    "from datetime import timedelta\n",
    "import readera_runoff_series as re\n",
    "import xarray as xr"
   ]
  },
  {
   "cell_type": "markdown",
   "metadata": {},
   "source": [
    "### Can be run with CMIP6 2019.10 kernel"
   ]
  },
  {
   "cell_type": "markdown",
   "metadata": {},
   "source": [
    " ###   Adapted from the dam operation model of Hirsch et al (2014) by John Methven \n",
    " ###   This is called as a function from the main code\n",
    "\n",
    " ####   Input: \n",
    " ####   :runoffarr  - input time series for runoff data\n",
    " ####   :dt         - runoff accumulation interval per record\n",
    " ####   :catcharea  - catchment area for the dam\n",
    " ####   :kappa      - parameter relating reservoir depth to volume\n",
    " ####   :hmax       - maximum water head (constraint on optimization)\n",
    " ####   :hmin       - minimum water head\n",
    " ####   :wmax       - maximum flow rate through turbines\n",
    " ####   :wmin       - minimum flow rate to maintain some power generation\n",
    " ####   :rmax       - maximum relief flow rate, bypassing turbines in flood\n",
    " ####   :sigma      - operational efficiency of power generation by dam\n",
    " ####   Output: \n",
    " ####   :inflow     - input time series for inflow to reservoir  \n",
    " ####   :x          - output time series for water head at dam\n",
    " ####   :w          - output solution for optimum flow rate through turbines\n",
    " ####   :r          - output solution for relief flow rate\n",
    " ####   :gout       - value of time integrated generation for optimum solution (MW-days)\n"
   ]
  },
  {
   "cell_type": "code",
   "execution_count": 2,
   "metadata": {},
   "outputs": [],
   "source": [
    "def damop_model(runoffarr, dt, catcharea, kappa, hmax, hmin, wmax, wmin, rmax, sigma):\n",
    "    print()\n",
    "    print('damop_model has been called with the constraints:')\n",
    "    print('wmax = ',wmax,'   wmin = ',wmin,'   hmax = ',hmax,'   hmin = ',hmin)\n",
    "    #\n",
    "    # Convert runoff data from units of m to an equivalent inflow in m^3 s^-1\n",
    "    # Assume that the same runoff rate applies to the entire catchment area for dam\n",
    "    #\n",
    "    runoffave = np.mean(runoffarr)\n",
    "    inflow = catcharea*runoffarr/dt\n",
    "    n = len(inflow)\n",
    "    inmax = max(inflow)\n",
    "    #\n",
    "    # Set parameter used to control computational mode using filter similar to Robert-Asselin\n",
    "    # Recommend 0 because filter introduces an offset of W relative to I in optimization.\n",
    "    #\n",
    "    alpha = 0.0\n",
    "    #\n",
    "    # Apply running mean to the inflow data if required for smoother solution \n",
    "    # to the optimisation. Averaging window length = nwin.\n",
    "    #\n",
    "    nwin = 3\n",
    "    inflow = running_mean(inflow, nwin)\n",
    "    #\n",
    "    # Scale mu so that the sum of generation over time points is approx one.\n",
    "    # This gives a better numerical solution in the optimisation for max generation\n",
    "    # by reducing numerical truncation error in the calculation.\n",
    "    #\n",
    "    mu = 1.0/(n*sigma*wmax*hmax)\n",
    "    #\n",
    "    # The dam management optimization model is set up in the mathematical form of a \n",
    "    # quadratic programming problem.\n",
    "    # The only input time series is the inflow to the reservoir.\n",
    "    # The model solves for the water head at the dam maximizing power generation.\n",
    "    # This then gives the flow rate through the turbines.\n",
    "    # However, contraints are applied on maximum and minimum water level \n",
    "    # and maximum/minimum flow rate through the turbines.\n",
    "    #\n",
    "    # The equation for generation can be written in the form\n",
    "    # \n",
    "    # G = 0.5*H^T P H + q^T H\n",
    "    #\n",
    "    # where H is the head time series we are solving for (a 1-D array) and \n",
    "    # P is a matrix and q is also a 1-D time series (scaled inflow).\n",
    "    # The notation ^T means the transpose of the matrix. \n",
    "    # Quadratic programming aims to minimize -G which is equivalent to max(G).\n",
    "    #\n",
    "    q = -mu*sigma*inflow\n",
    "    umat = np.zeros((n, n))\n",
    "    inmat = np.zeros((n, n))\n",
    "    cmat = np.zeros((n, n))\n",
    "    for i in range(n):\n",
    "        umat[i, i] = 1\n",
    "        inmat[i, i] = inflow[i]\n",
    "\n",
    "    for j in range(n-2):\n",
    "        i = j+1\n",
    "        cmat[i, i-1] = -1 + 0.5*alpha\n",
    "        cmat[i, i]   = -alpha\n",
    "        cmat[i, i+1] = 1 - 0.5*alpha\n",
    "    \n",
    "    pscal = mu*sigma*(kappa/dt)*cmat\n",
    "    wscal = -0.5*(kappa/dt)*cmat\n",
    "    #\n",
    "    # Set constraints on the water head at the dam: hmin <= h <= hmax\n",
    "    # Optimization requires that constraints actually need to be applied in form:\n",
    "    # Amat x <= b  (where in this problem the vector x is head time series, h).\n",
    "    # For Amat x >= b it is necessary to re-arrange to -Amat x <= -b.\n",
    "    # Therefore to apply hmin <= h <= hmax, the matrix Amat is the unit matrix.\n",
    "    #\n",
    "    hscal = umat\n",
    "    hmaxcons = np.ones(n)*hmax\n",
    "    hmincons = np.ones(n)*hmin    \n",
    "    #\n",
    "    # Set constraints on the flow rate \n",
    "    # based on the parameters Wmax, Rmax and Wmin.\n",
    "    # The form of the contraints means that it must be applied to range of W*h:\n",
    "    # Wmin*hmin <= W*h <= (Wmax+Rmax)*hmax\n",
    "    #\n",
    "    gscal = wscal + inmat\n",
    "    gmaxcons = np.zeros(n)\n",
    "    gmincons = np.zeros(n)\n",
    "    for i in range(n):\n",
    "        gmaxcons[i] = (wmax+rmax)*hmax\n",
    "        gmincons[i] = wmin*0.5*(hmin+hmax)\n",
    "    #\n",
    "    # Construct a single matrix describing Amat and vector for constraint values b\n",
    "    # in the form required by optimize.minimize\n",
    "    #\n",
    "    vmat = np.concatenate((gscal, -gscal, hscal, -hscal), axis=0)\n",
    "    vcons = np.concatenate((gmaxcons, -gmincons, hmaxcons, -hmincons))\n",
    "    \n",
    "    print('Now apply quadratic minimization technique')\n",
    "    \n",
    "    def gen(x, sign=1.):\n",
    "        return sign * (0.5*np.dot(x.T, np.dot(pscal, x)) + np.dot(q.T, x))\n",
    "    \n",
    "    def jac(x, sign=1.):\n",
    "        return sign * (np.dot(x.T, pscal) + q.T)\n",
    "    \n",
    "    cons = {'type':'ineq',\n",
    "            'fun':lambda x: vcons - np.dot(vmat, x),\n",
    "            'jac':lambda x: -vmat}\n",
    "    \n",
    "    opt = {'disp':True, 'maxiter':100, 'ftol':1e-08}\n",
    "\n",
    "    #\n",
    "    # Obtain solution by minimization nouter times. Smooth the input first guess \n",
    "    # and results for head, h, which removes noise and any numerical instability in \n",
    "    # optimal solution for the flow rate time series, W.\n",
    "    # Note that the minimize method does not always find a solution consistent \n",
    "    # with the contraints imposed (depending on the first guess data) and these\n",
    "    # failed attempts are not included in the average solution.\n",
    "    #\n",
    "    nouter = 3\n",
    "    istsuccess = 1\n",
    "    ic = -1\n",
    "    afac = 0.5\n",
    "    xinit = hmax*(afac + 0.1*np.random.randn(n))\n",
    "    nwin = min([41, 2*round(0.2*n)+1])\n",
    "    print('running mean window length, nwin = ',nwin)\n",
    "    xinit = running_mean(xinit, nwin)\n",
    "    \n",
    "    for io in range(nouter):\n",
    "    #while istsuccess == 1:\n",
    "        #\n",
    "        # First guess values for x (water head).\n",
    "        # Random variation on top of constant level.\n",
    "        # Smooth to reduce 2-grid noise in input data.\n",
    "        #\n",
    "        ic = ic+1\n",
    "        res_cons = optimize.minimize(gen, xinit, jac=jac, constraints=cons,\n",
    "                                 method='SLSQP', options=opt)\n",
    "        xup = res_cons['x']\n",
    "        fup = res_cons['fun']  \n",
    "        stexit = res_cons['status']\n",
    "    \n",
    "        if stexit != 4:\n",
    "            if istsuccess == 1:\n",
    "                x = xup\n",
    "                x = running_mean(x, nwin)\n",
    "                xinit = x\n",
    "                f = fup\n",
    "                print('Constrained optimization')\n",
    "                print(res_cons)\n",
    "                print('iter ',ic,' f = ',f)\n",
    "                istsuccess = 0\n",
    "            else:\n",
    "                if (fup/f) < 2:\n",
    "                    afac = float(ic+1)/nouter\n",
    "                    x = afac*x + (1-afac)*xup\n",
    "                    x = running_mean(x, nwin)\n",
    "                    xinit = x\n",
    "                    f = afac*f + (1-afac)*fup\n",
    "                    print('iter ',ic,' f = ',f)\n",
    "        if ic == nouter:\n",
    "            print(nouter,' outer iterations finished without reaching result')\n",
    "            istsuccess = 1\n",
    "    # end outer loop\n",
    "    \n",
    "    #\n",
    "    # Optimisation returns the head in variable x\n",
    "    # Total flow rate ft = W+R is calculated from head and known inflow rate\n",
    "    # Total flow is diverted into relief flow when it exceeds Wmax (and Rmax > 0)\n",
    "    #\n",
    "    ft = np.dot(wscal, x) + inflow\n",
    "    w = np.copy(ft)\n",
    "    r = np.zeros(n)\n",
    "    excessflow = np.where(ft > wmax)\n",
    "    if rmax > 0:\n",
    "        w[excessflow] = wmax\n",
    "        r[excessflow] = ft[excessflow]-wmax\n",
    "    \n",
    "    gout = -f\n",
    "\n",
    "    return inflow, x, w, r, gout"
   ]
  },
  {
   "cell_type": "code",
   "execution_count": 3,
   "metadata": {},
   "outputs": [],
   "source": [
    "def running_mean(xarr, nwin):\n",
    "    '''\n",
    "    Apply running mean filter through array\n",
    "    Inputs:\n",
    "        xarr    - array to filter\n",
    "        nwin    - number of points in the filter window (odd number expected)\n",
    "    Output:\n",
    "        xfilt   - same length as xarr after application of filter\n",
    "    '''\n",
    "    n = len(xarr)\n",
    "    xfilt = np.copy(xarr)\n",
    "    ist = int(nwin/2)\n",
    "    xconv = np.convolve(xarr, np.ones(nwin),'valid')/nwin\n",
    "    nconv = len(xconv)\n",
    "    xfilt[ist:n-ist] = xconv[:]\n",
    "    xfilt[0:ist] = xconv[0]\n",
    "    xfilt[n-ist:n] = xconv[nconv-1]\n",
    "\n",
    "    return xfilt"
   ]
  },
  {
   "cell_type": "code",
   "execution_count": 4,
   "metadata": {},
   "outputs": [],
   "source": [
    "def plot_series(timarr, inflow, h, w, r, powergen, ilabel, hlabel, wlabel, rlabel, plabel, mytitle):\n",
    "    '''\n",
    "    Plot the subset time series\n",
    "    Inputs:\n",
    "        timarr   - time array in datetime format\n",
    "        y        - data time series\n",
    "        ylabel   - string name for data\n",
    "        mytitle  - plot title\n",
    "    '''\n",
    "    fig = plt.figure()\n",
    "    plt.plot(timarr,inflow,label=ilabel)\n",
    "    plt.plot(timarr,h,label=hlabel)\n",
    "    plt.plot(timarr,w,label=wlabel)\n",
    "    plt.plot(timarr,r,label=rlabel)\n",
    "    plt.plot(timarr,powergen,label=plabel)\n",
    "    plt.xlabel(\"Days\")\n",
    "    plt.ylabel(ilabel)\n",
    "    plt.title(mytitle)\n",
    "    plt.legend()\n",
    "    plt.show()"
   ]
  },
  {
   "cell_type": "markdown",
   "metadata": {},
   "source": [
    "## Main program script for controlling the hydroelectric dam management model and its output"
   ]
  },
  {
   "cell_type": "markdown",
   "metadata": {},
   "source": [
    "#### First set parameters "
   ]
  },
  {
   "cell_type": "code",
   "execution_count": 5,
   "metadata": {},
   "outputs": [],
   "source": [
    "    #\n",
    "    # Set the parameters for the geometry of the chosen dam\n",
    "    #\n",
    "    hdam = 161.            # dam height (m)\n",
    "    catcharea = 254.5*1.e6 # dam catchment area converted to m^2\n",
    "    area = 13*1.e6         # reservoir area converted to m^2\n",
    "    #\n",
    "    # Assuming max reservoir depth equals dam height.\n",
    "    # Also assuming that average reservoir depth is a fraction of the max depth.\n",
    "    #\n",
    "    max_volume = area*hdam*0.5\n",
    "    kappa = max_volume/hdam\n",
    "    maxflow = 100.           # stated maximum flow through hydro turbines (m^3 s^-1)\n",
    "    maxpower = 153.          # stated maximum power generation by plant (MW)\n",
    "    taudam = 180.            # timescale for dam to run dry at maximum flow rate (days)\n",
    "    taudam = taudam*3600*24  # convert from days to seconds\n",
    "    #\n",
    "    # Set the constraints on the optimization for maximum power generation\n",
    "    #\n",
    "    hmax = 0.5*hdam\n",
    "    hmin = 0.2*hmax\n",
    "    wmax = (kappa/taudam)*hdam\n",
    "    # NOTE: model uses either maxflow OR taudam to constrain flow rates (but not both)\n",
    "    # wmax = maxflow\n",
    "    beta = 0.1               # where min(flow rate) = beta*max(flow rate) \n",
    "    wmin = beta*wmax\n",
    "    rmax = 0.2*wmax          # maximum relief flow diverting around turbines\n",
    "    sigma = 0.9              # operational efficiency factor for the power station\n",
    "    mu = maxpower/(sigma*wmax*hmax) # conversion factor to GW for power generation estimate\n",
    "    #\n",
    "    # Pick the location of the dam to extract the time series\n",
    "    #\n",
    "    lonpick = 136.502\n",
    "    latpick = 35.667\n",
    "    dlon = 0.1 # runoff data grid box side in degrees longitude\n",
    "    dlat = 0.1 # runoff data grid box side in degrees latitude\n",
    "    radea = 6371000. # average radius of the Earth (m)\n",
    "    boxarea = dlon*(np.pi/180)*dlat*(np.pi/180)*np.cos(latpick*np.pi/180)*radea*radea\n",
    "    #\n",
    "    # Select the start and end date required for the time series\n",
    "    #\n",
    "    dstart = datetime.date(2017, 6, 1)\n",
    "    dend = datetime.date(2017, 9, 30)\n"
   ]
  },
  {
   "cell_type": "code",
   "execution_count": null,
   "metadata": {},
   "outputs": [],
   "source": []
  },
  {
   "cell_type": "markdown",
   "metadata": {},
   "source": [
    "#\n",
    "### Call the function to extract the run-off time series from ERA5 over Japan (high resolution)\n",
    "#"
   ]
  },
  {
   "cell_type": "code",
   "execution_count": 6,
   "metadata": {},
   "outputs": [],
   "source": [
    "    #\n",
    "    # Set the path and filename stem for ERA5 data files.   \n",
    "    #\n",
    "    fpath = '/glade/u/home/berner/ASP2021_tutorials/hydro_tutorial_asp2021/data/ERA5/japan/'\n",
    "    fstem = 'japan_ERA5land.'"
   ]
  },
  {
   "cell_type": "code",
   "execution_count": 7,
   "metadata": {},
   "outputs": [
    {
     "name": "stdout",
     "output_type": "stream",
     "text": [
      "Read data for accumulation to  2017-06-02 00:00:00\n",
      "\n",
      "Longitude of nearest grid box =  136.6\n",
      "Latitude of nearest grid box =  35.6\n"
     ]
    },
    {
     "data": {
      "image/png": "[encoded data removed]",
      "text/plain": [
       "<Figure size 432x288 with 2 Axes>"
      ]
     },
     "metadata": {
      "needs_background": "light"
     },
     "output_type": "display_data"
    },
    {
     "name": "stdout",
     "output_type": "stream",
     "text": [
      "Read data for accumulation to  2017-06-02 00:00:00\n",
      "Read data for accumulation to  2017-06-03 00:00:00\n",
      "Read data for accumulation to  2017-06-04 00:00:00\n",
      "Read data for accumulation to  2017-06-05 00:00:00\n",
      "Read data for accumulation to  2017-06-06 00:00:00\n",
      "Read data for accumulation to  2017-06-07 00:00:00\n",
      "Read data for accumulation to  2017-06-08 00:00:00\n",
      "Read data for accumulation to  2017-06-09 00:00:00\n",
      "Read data for accumulation to  2017-06-10 00:00:00\n",
      "Read data for accumulation to  2017-06-11 00:00:00\n",
      "Read data for accumulation to  2017-06-12 00:00:00\n",
      "Read data for accumulation to  2017-06-13 00:00:00\n",
      "Read data for accumulation to  2017-06-14 00:00:00\n",
      "Read data for accumulation to  2017-06-15 00:00:00\n",
      "Read data for accumulation to  2017-06-16 00:00:00\n",
      "Read data for accumulation to  2017-06-17 00:00:00\n",
      "Read data for accumulation to  2017-06-18 00:00:00\n",
      "Read data for accumulation to  2017-06-19 00:00:00\n",
      "Read data for accumulation to  2017-06-20 00:00:00\n",
      "Read data for accumulation to  2017-06-21 00:00:00\n",
      "Read data for accumulation to  2017-06-22 00:00:00\n",
      "Read data for accumulation to  2017-06-23 00:00:00\n",
      "Read data for accumulation to  2017-06-24 00:00:00\n",
      "Read data for accumulation to  2017-06-25 00:00:00\n",
      "Read data for accumulation to  2017-06-26 00:00:00\n",
      "Read data for accumulation to  2017-06-27 00:00:00\n",
      "Read data for accumulation to  2017-06-28 00:00:00\n",
      "Read data for accumulation to  2017-06-29 00:00:00\n",
      "Read data for accumulation to  2017-06-30 00:00:00\n",
      "Read data for accumulation to  2017-07-01 00:00:00\n",
      "Read data for accumulation to  2017-07-02 00:00:00\n",
      "Read data for accumulation to  2017-07-03 00:00:00\n",
      "Read data for accumulation to  2017-07-04 00:00:00\n",
      "Read data for accumulation to  2017-07-05 00:00:00\n",
      "Read data for accumulation to  2017-07-06 00:00:00\n",
      "Read data for accumulation to  2017-07-07 00:00:00\n",
      "Read data for accumulation to  2017-07-08 00:00:00\n",
      "Read data for accumulation to  2017-07-09 00:00:00\n",
      "Read data for accumulation to  2017-07-10 00:00:00\n",
      "Read data for accumulation to  2017-07-11 00:00:00\n",
      "Read data for accumulation to  2017-07-12 00:00:00\n",
      "Read data for accumulation to  2017-07-13 00:00:00\n",
      "Read data for accumulation to  2017-07-14 00:00:00\n",
      "Read data for accumulation to  2017-07-15 00:00:00\n",
      "Read data for accumulation to  2017-07-16 00:00:00\n",
      "Read data for accumulation to  2017-07-17 00:00:00\n",
      "Read data for accumulation to  2017-07-18 00:00:00\n",
      "Read data for accumulation to  2017-07-19 00:00:00\n",
      "Read data for accumulation to  2017-07-20 00:00:00\n",
      "Read data for accumulation to  2017-07-21 00:00:00\n",
      "Read data for accumulation to  2017-07-22 00:00:00\n",
      "Read data for accumulation to  2017-07-23 00:00:00\n",
      "Read data for accumulation to  2017-07-24 00:00:00\n",
      "Read data for accumulation to  2017-07-25 00:00:00\n",
      "Read data for accumulation to  2017-07-26 00:00:00\n",
      "Read data for accumulation to  2017-07-27 00:00:00\n",
      "Read data for accumulation to  2017-07-28 00:00:00\n",
      "Read data for accumulation to  2017-07-29 00:00:00\n",
      "Read data for accumulation to  2017-07-30 00:00:00\n",
      "Read data for accumulation to  2017-07-31 00:00:00\n",
      "Read data for accumulation to  2017-08-01 00:00:00\n",
      "Read data for accumulation to  2017-08-02 00:00:00\n",
      "Read data for accumulation to  2017-08-03 00:00:00\n",
      "Read data for accumulation to  2017-08-04 00:00:00\n",
      "Read data for accumulation to  2017-08-05 00:00:00\n",
      "Read data for accumulation to  2017-08-06 00:00:00\n",
      "Read data for accumulation to  2017-08-07 00:00:00\n",
      "Read data for accumulation to  2017-08-08 00:00:00\n",
      "Read data for accumulation to  2017-08-09 00:00:00\n",
      "Read data for accumulation to  2017-08-10 00:00:00\n",
      "Read data for accumulation to  2017-08-11 00:00:00\n",
      "Read data for accumulation to  2017-08-12 00:00:00\n",
      "Read data for accumulation to  2017-08-13 00:00:00\n",
      "Read data for accumulation to  2017-08-14 00:00:00\n",
      "Read data for accumulation to  2017-08-15 00:00:00\n",
      "Read data for accumulation to  2017-08-16 00:00:00\n",
      "Read data for accumulation to  2017-08-17 00:00:00\n",
      "Read data for accumulation to  2017-08-18 00:00:00\n",
      "Read data for accumulation to  2017-08-19 00:00:00\n",
      "Read data for accumulation to  2017-08-20 00:00:00\n",
      "Read data for accumulation to  2017-08-21 00:00:00\n",
      "Read data for accumulation to  2017-08-22 00:00:00\n",
      "Read data for accumulation to  2017-08-23 00:00:00\n",
      "Read data for accumulation to  2017-08-24 00:00:00\n",
      "Read data for accumulation to  2017-08-25 00:00:00\n",
      "Read data for accumulation to  2017-08-26 00:00:00\n",
      "Read data for accumulation to  2017-08-27 00:00:00\n",
      "Read data for accumulation to  2017-08-28 00:00:00\n",
      "Read data for accumulation to  2017-08-29 00:00:00\n",
      "Read data for accumulation to  2017-08-30 00:00:00\n",
      "Read data for accumulation to  2017-08-31 00:00:00\n",
      "Read data for accumulation to  2017-09-01 00:00:00\n",
      "Read data for accumulation to  2017-09-02 00:00:00\n",
      "Read data for accumulation to  2017-09-03 00:00:00\n",
      "Read data for accumulation to  2017-09-04 00:00:00\n",
      "Read data for accumulation to  2017-09-05 00:00:00\n",
      "Read data for accumulation to  2017-09-06 00:00:00\n",
      "Read data for accumulation to  2017-09-07 00:00:00\n",
      "Read data for accumulation to  2017-09-08 00:00:00\n",
      "Read data for accumulation to  2017-09-09 00:00:00\n",
      "Read data for accumulation to  2017-09-10 00:00:00\n",
      "Read data for accumulation to  2017-09-11 00:00:00\n",
      "Read data for accumulation to  2017-09-12 00:00:00\n",
      "Read data for accumulation to  2017-09-13 00:00:00\n",
      "Read data for accumulation to  2017-09-14 00:00:00\n",
      "Read data for accumulation to  2017-09-15 00:00:00\n",
      "Read data for accumulation to  2017-09-16 00:00:00\n",
      "Read data for accumulation to  2017-09-17 00:00:00\n",
      "Read data for accumulation to  2017-09-18 00:00:00\n",
      "Read data for accumulation to  2017-09-19 00:00:00\n",
      "Read data for accumulation to  2017-09-20 00:00:00\n",
      "Read data for accumulation to  2017-09-21 00:00:00\n",
      "Read data for accumulation to  2017-09-22 00:00:00\n",
      "Read data for accumulation to  2017-09-23 00:00:00\n",
      "Read data for accumulation to  2017-09-24 00:00:00\n",
      "Read data for accumulation to  2017-09-25 00:00:00\n",
      "Read data for accumulation to  2017-09-26 00:00:00\n",
      "Read data for accumulation to  2017-09-27 00:00:00\n",
      "Read data for accumulation to  2017-09-28 00:00:00\n",
      "Read data for accumulation to  2017-09-29 00:00:00\n",
      "Read data for accumulation to  2017-09-30 00:00:00\n",
      "Read data for accumulation to  2017-10-01 00:00:00\n"
     ]
    },
    {
     "data": {
      "image/png": "[encoded data removed]",
      "text/plain": [
       "<Figure size 432x288 with 1 Axes>"
      ]
     },
     "metadata": {
      "needs_background": "light"
     },
     "output_type": "display_data"
    }
   ],
   "source": [
    "dayarr, timarr, runoffarr = re.extract_series(fpath, fstem, lonpick, latpick, dstart, dend)\n",
    "dt = dayarr[1]-dayarr[0] # interval between data records (days)"
   ]
  },
  {
   "cell_type": "markdown",
   "metadata": {},
   "source": [
    "#\n",
    "### Call the function to extract the run-off time series from S2S database (1.5 degree resolution)\n",
    "#"
   ]
  },
  {
   "cell_type": "code",
   "execution_count": 8,
   "metadata": {},
   "outputs": [],
   "source": [
    "# Set the path and filename stem for S2S data files.   \n",
    "#\n",
    "fpath = '/glade/scratch/acsubram/S2S_EC_Runoff/'\n",
    "fstem = 'SurfaceRunoff_'"
   ]
  },
  {
   "cell_type": "code",
   "execution_count": 9,
   "metadata": {},
   "outputs": [],
   "source": [
    "#data=xr.open_dataset(\"/glade/scratch/acsubram/S2S_EC_Runoff/SurfaceRunoff_20160411.nc\")\n",
    "data=xr.open_dataset(\"/glade/scratch/acsubram/S2S_EC_Runoff/SurfaceRunoff_20190513.nc\")"
   ]
  },
  {
   "cell_type": "code",
   "execution_count": 10,
   "metadata": {},
   "outputs": [],
   "source": [
    "runoffarrh=data.sel(longitude=lonpick,latitude=latpick,method=\"nearest\",number=10).sro"
   ]
  },
  {
   "cell_type": "code",
   "execution_count": 11,
   "metadata": {},
   "outputs": [],
   "source": [
    "# The S2S data provises cumuleted runoff; here we backout daily runoff\n",
    "runoffarr2= np.ediff1d(runoffarrh, to_begin=runoffarrh[0])\n",
    "\n",
    "#Convert from kg/m^2 (S2S) to m (ERA)\n",
    "runoffarr2=runoffarr2/1000"
   ]
  },
  {
   "cell_type": "code",
   "execution_count": 12,
   "metadata": {},
   "outputs": [],
   "source": [
    "timarr2=data.time\n",
    "dayarr2=np.array(np.linspace(0, 46, num=47))\n",
    "dt2 = dayarr2[1]-dayarr2[0] # interval between data records (days)"
   ]
  },
  {
   "cell_type": "code",
   "execution_count": 13,
   "metadata": {},
   "outputs": [],
   "source": [
    "str='s2s'\n",
    "if str=='s2s':\n",
    "    runoffarr=runoffarr2\n",
    "    dayarr=dayarr2"
   ]
  },
  {
   "cell_type": "code",
   "execution_count": 14,
   "metadata": {},
   "outputs": [
    {
     "data": {
      "text/plain": [
       "[<matplotlib.lines.Line2D at 0x2ae94e5b2c10>]"
      ]
     },
     "execution_count": 14,
     "metadata": {},
     "output_type": "execute_result"
    },
    {
     "data": {
      "image/png": "[encoded data removed]",
      "text/plain": [
       "<Figure size 432x288 with 1 Axes>"
      ]
     },
     "metadata": {
      "needs_background": "light"
     },
     "output_type": "display_data"
    }
   ],
   "source": [
    "plt.plot(runoffarr2)"
   ]
  },
  {
   "cell_type": "markdown",
   "metadata": {},
   "source": [
    "### Call the dam management model to return results for optimum power generation subject to constraints on reservoir level and flow rate through turbines."
   ]
  },
  {
   "cell_type": "code",
   "execution_count": 15,
   "metadata": {},
   "outputs": [],
   "source": [
    "dt = dt*3600*24          # convert from days to seconds\n",
    "n = len(dayarr)"
   ]
  },
  {
   "cell_type": "code",
   "execution_count": 16,
   "metadata": {},
   "outputs": [
    {
     "name": "stdout",
     "output_type": "stream",
     "text": [
      "\n",
      "damop_model has been called with the constraints:\n",
      "wmax =  67.29038065843622    wmin =  6.729038065843622    hmax =  80.5    hmin =  16.1\n",
      "Now apply quadratic minimization technique\n",
      "running mean window length, nwin =  19\n",
      "Iteration limit reached    (Exit mode 9)\n",
      "            Current function value: -0.9393770154320621\n",
      "            Iterations: 100\n",
      "            Function evaluations: 897\n",
      "            Gradient evaluations: 97\n",
      "Constrained optimization\n",
      "     fun: -0.9393770154320621\n",
      "     jac: array([-2.37919368e-02, -1.14342156e-02,  1.20258421e-02, -8.76841870e-06,\n",
      "        3.85657810e-06,  1.13209860e-15,  7.40290197e-17, -2.02095285e-15,\n",
      "        2.32725441e-06,  1.62333891e-04,  1.18783905e-04, -1.39111768e-04,\n",
      "       -1.13559637e-04, -4.23184346e-04, -2.90719263e-04,  6.51912891e-06,\n",
      "       -3.39049278e-05, -2.45040806e-04, -3.12195303e-05, -3.05983952e-05,\n",
      "       -2.13798964e-04,  2.39043925e-04,  2.45577517e-04, -2.22176840e-04,\n",
      "        2.17356848e-04, -3.48795521e-04, -7.48389718e-04,  1.04499547e-06,\n",
      "        1.16213392e-04, -9.61350813e-05,  3.87506179e-05,  1.03582311e-04,\n",
      "        3.19881119e-04,  4.36912205e-04,  8.51332478e-05, -1.43436699e-04,\n",
      "       -1.32605791e-05,  6.51655847e-05, -1.33168741e-05, -1.10159945e-05,\n",
      "       -7.51556960e-06, -1.62009166e-04,  5.54123887e-05,  1.85832262e-03,\n",
      "        7.04793925e-03,  1.01260158e-02,  4.75767928e-03])\n",
      " message: 'Iteration limit reached'\n",
      "    nfev: 897\n",
      "     nit: 100\n",
      "    njev: 97\n",
      "  status: 9\n",
      " success: False\n",
      "       x: array([80.50000056, 80.5000009 , 38.6798589 , 39.78721022, 38.69451273,\n",
      "       39.77340787, 38.69451273, 39.77340787, 38.69451273, 39.72798421,\n",
      "       38.10735559, 39.28820591, 38.57787784, 39.67250655, 40.00998892,\n",
      "       40.65633849, 39.98342184, 40.76632077, 40.80691419, 40.86671506,\n",
      "       40.89969967, 41.5742185 , 40.07847797, 40.73664401, 40.82985315,\n",
      "       39.99982862, 41.86278403, 42.34999339, 41.66925446, 41.91240513,\n",
      "       41.98382465, 41.7659982 , 41.61351331, 40.65594311, 40.1134176 ,\n",
      "       40.32678897, 40.5550202 , 40.32034916, 40.2839264 , 40.29056948,\n",
      "       40.2606287 , 40.27019461, 40.67822152, 39.9520045 , 34.2677596 ,\n",
      "       16.10060782, 16.10101622])\n",
      "iter  0  f =  -0.9393770154320621\n",
      "Inequality constraints incompatible    (Exit mode 4)\n",
      "            Current function value: 0.39489836472562945\n",
      "            Iterations: 91\n",
      "            Function evaluations: 819\n",
      "            Gradient evaluations: 89\n",
      "Inequality constraints incompatible    (Exit mode 4)\n",
      "            Current function value: 0.39489836472562945\n",
      "            Iterations: 91\n",
      "            Function evaluations: 819\n",
      "            Gradient evaluations: 89\n"
     ]
    }
   ],
   "source": [
    "inflow, h, w, r, gout = damop_model(runoffarr, dt, catcharea, kappa, hmax, hmin, wmax, wmin, rmax, sigma)\n",
    "powergen = mu*sigma*w*h"
   ]
  },
  {
   "cell_type": "code",
   "execution_count": 17,
   "metadata": {},
   "outputs": [],
   "source": [
    "    ilabel = 'inflow  (m^3 s^-1)'\n",
    "    hlabel = 'head   (m)'\n",
    "    wlabel = 'flow rate  (m^3 s^-1)'\n",
    "    rlabel = 'relief flow  (m^3 s^-1)'\n",
    "    plabel = 'generation rate  (MW)'\n",
    "    mytitle = 'dam model optimisation output'"
   ]
  },
  {
   "cell_type": "code",
   "execution_count": 18,
   "metadata": {},
   "outputs": [
    {
     "data": {
      "image/png": "[encoded data removed]",
      "text/plain": [
       "<Figure size 432x288 with 1 Axes>"
      ]
     },
     "metadata": {
      "needs_background": "light"
     },
     "output_type": "display_data"
    }
   ],
   "source": [
    "plot_series(dayarr, inflow, h, w, r, powergen, ilabel, hlabel, wlabel, rlabel, plabel, mytitle)"
   ]
  },
  {
   "cell_type": "code",
   "execution_count": null,
   "metadata": {},
   "outputs": [],
   "source": []
  }
 ],
 "metadata": {
  "kernelspec": {
   "display_name": "CMIP6 2019.10",
   "language": "python",
   "name": "cmip6-201910"
  },
  "language_info": {
   "codemirror_mode": {
    "name": "ipython",
    "version": 3
   },
   "file_extension": ".py",
   "mimetype": "text/x-python",
   "name": "python",
   "nbconvert_exporter": "python",
   "pygments_lexer": "ipython3",
   "version": "3.7.8"
  }
 },
 "nbformat": 4,
 "nbformat_minor": 4
}
